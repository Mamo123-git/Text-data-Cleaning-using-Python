{
 "cells": [
  {
   "cell_type": "markdown",
   "metadata": {},
   "source": [
    "### Import Packages"
   ]
  },
  {
   "cell_type": "code",
   "execution_count": 1,
   "metadata": {},
   "outputs": [],
   "source": [
    "# import packages\n",
    "import pandas as pd\n",
    "\n",
    "import re\n",
    "\n",
    "import nltk\n",
    "from nltk.corpus import stopwords\n",
    "#from nltk.stem.porter import PorterStemmer\n",
    "#ps = PorterStemmer()\n",
    "from nltk.tokenize import word_tokenize\n",
    "from nltk.stem.snowball import SnowballStemmer\n",
    "from nltk.stem import WordNetLemmatizer\n",
    "from nltk.tag import pos_tag\n",
    "\n",
    "from nltk.corpus import conll2000\n",
    "\n",
    "from textblob import TextBlob\n",
    "\n",
    "from sklearn.feature_extraction.text import TfidfVectorizer"
   ]
  },
  {
   "cell_type": "code",
   "execution_count": 2,
   "metadata": {},
   "outputs": [],
   "source": [
    "# Declaring Snowball Stemmer\n",
    "snowball = SnowballStemmer(\"english\")\n",
    "\n",
    " # declaring WordNetLemmatizer\n",
    "lemmatizer = WordNetLemmatizer()"
   ]
  },
  {
   "cell_type": "markdown",
   "metadata": {},
   "source": [
    "### Extract Data"
   ]
  },
  {
   "cell_type": "code",
   "execution_count": 3,
   "metadata": {},
   "outputs": [
    {
     "data": {
      "text/html": [
       "<div>\n",
       "<style scoped>\n",
       "    .dataframe tbody tr th:only-of-type {\n",
       "        vertical-align: middle;\n",
       "    }\n",
       "\n",
       "    .dataframe tbody tr th {\n",
       "        vertical-align: top;\n",
       "    }\n",
       "\n",
       "    .dataframe thead th {\n",
       "        text-align: right;\n",
       "    }\n",
       "</style>\n",
       "<table border=\"1\" class=\"dataframe\">\n",
       "  <thead>\n",
       "    <tr style=\"text-align: right;\">\n",
       "      <th></th>\n",
       "      <th>Incident</th>\n",
       "      <th>Email_Text</th>\n",
       "    </tr>\n",
       "  </thead>\n",
       "  <tbody>\n",
       "    <tr>\n",
       "      <td>0</td>\n",
       "      <td>5632054</td>\n",
       "      <td>Auto Response Channel: No ChannelNo Channel   ...</td>\n",
       "    </tr>\n",
       "    <tr>\n",
       "      <td>1</td>\n",
       "      <td>5632083</td>\n",
       "      <td>Response Channel: EmailEmail   01/02/2020 02:2...</td>\n",
       "    </tr>\n",
       "    <tr>\n",
       "      <td>2</td>\n",
       "      <td>5632093</td>\n",
       "      <td>Response Channel: EmailEmail   01/21/2020 08:4...</td>\n",
       "    </tr>\n",
       "    <tr>\n",
       "      <td>3</td>\n",
       "      <td>5632101</td>\n",
       "      <td>Auto Response Channel: No ChannelNo Channel   ...</td>\n",
       "    </tr>\n",
       "    <tr>\n",
       "      <td>4</td>\n",
       "      <td>5632108</td>\n",
       "      <td>Auto Response Channel: No ChannelNo Channel   ...</td>\n",
       "    </tr>\n",
       "    <tr>\n",
       "      <td>...</td>\n",
       "      <td>...</td>\n",
       "      <td>...</td>\n",
       "    </tr>\n",
       "    <tr>\n",
       "      <td>822</td>\n",
       "      <td>5670263</td>\n",
       "      <td>Auto Response Channel: No ChannelNo Channel   ...</td>\n",
       "    </tr>\n",
       "    <tr>\n",
       "      <td>823</td>\n",
       "      <td>5670303</td>\n",
       "      <td>Response Channel: EmailEmail   02/03/2020 05:2...</td>\n",
       "    </tr>\n",
       "    <tr>\n",
       "      <td>824</td>\n",
       "      <td>5670353</td>\n",
       "      <td>Auto Response Channel: No ChannelNo Channel   ...</td>\n",
       "    </tr>\n",
       "    <tr>\n",
       "      <td>825</td>\n",
       "      <td>5670463</td>\n",
       "      <td>Response Channel: EmailEmail   02/05/2020 02:5...</td>\n",
       "    </tr>\n",
       "    <tr>\n",
       "      <td>826</td>\n",
       "      <td>5670478</td>\n",
       "      <td>Response Channel: EmailEmail   02/01/2020 01:5...</td>\n",
       "    </tr>\n",
       "  </tbody>\n",
       "</table>\n",
       "<p>827 rows × 2 columns</p>\n",
       "</div>"
      ],
      "text/plain": [
       "     Incident                                         Email_Text\n",
       "0     5632054  Auto Response Channel: No ChannelNo Channel   ...\n",
       "1     5632083  Response Channel: EmailEmail   01/02/2020 02:2...\n",
       "2     5632093  Response Channel: EmailEmail   01/21/2020 08:4...\n",
       "3     5632101  Auto Response Channel: No ChannelNo Channel   ...\n",
       "4     5632108  Auto Response Channel: No ChannelNo Channel   ...\n",
       "..        ...                                                ...\n",
       "822   5670263  Auto Response Channel: No ChannelNo Channel   ...\n",
       "823   5670303  Response Channel: EmailEmail   02/03/2020 05:2...\n",
       "824   5670353  Auto Response Channel: No ChannelNo Channel   ...\n",
       "825   5670463  Response Channel: EmailEmail   02/05/2020 02:5...\n",
       "826   5670478  Response Channel: EmailEmail   02/01/2020 01:5...\n",
       "\n",
       "[827 rows x 2 columns]"
      ]
     },
     "execution_count": 3,
     "metadata": {},
     "output_type": "execute_result"
    }
   ],
   "source": [
    "# Extract data\n",
    "raw_data = pd.read_excel('Sandisk Email Data.xlsx')\n",
    "data = raw_data[['Incident','Email_Text']]\n",
    "data"
   ]
  },
  {
   "cell_type": "markdown",
   "metadata": {},
   "source": [
    "### Cleaning Data"
   ]
  },
  {
   "cell_type": "code",
   "execution_count": 4,
   "metadata": {},
   "outputs": [
    {
     "name": "stderr",
     "output_type": "stream",
     "text": [
      "C:\\Users\\II00083764\\AppData\\Local\\Continuum\\anaconda3\\lib\\site-packages\\ipykernel_launcher.py:7: SettingWithCopyWarning: \n",
      "A value is trying to be set on a copy of a slice from a DataFrame.\n",
      "Try using .loc[row_indexer,col_indexer] = value instead\n",
      "\n",
      "See the caveats in the documentation: http://pandas.pydata.org/pandas-docs/stable/user_guide/indexing.html#returning-a-view-versus-a-copy\n",
      "  import sys\n",
      "C:\\Users\\II00083764\\AppData\\Local\\Continuum\\anaconda3\\lib\\site-packages\\ipykernel_launcher.py:11: SettingWithCopyWarning: \n",
      "A value is trying to be set on a copy of a slice from a DataFrame\n",
      "\n",
      "See the caveats in the documentation: http://pandas.pydata.org/pandas-docs/stable/user_guide/indexing.html#returning-a-view-versus-a-copy\n",
      "  # This is added back by InteractiveShellApp.init_path()\n",
      "C:\\Users\\II00083764\\AppData\\Local\\Continuum\\anaconda3\\lib\\site-packages\\IPython\\core\\interactiveshell.py:3326: SettingWithCopyWarning: \n",
      "A value is trying to be set on a copy of a slice from a DataFrame\n",
      "\n",
      "See the caveats in the documentation: http://pandas.pydata.org/pandas-docs/stable/user_guide/indexing.html#returning-a-view-versus-a-copy\n",
      "  exec(code_obj, self.user_global_ns, self.user_ns)\n"
     ]
    }
   ],
   "source": [
    "# split email using date wise in the format  01/13/2020 02:20\n",
    "\n",
    "def split_date(text):\n",
    "    text = re.split(r' \\d?\\d/\\d?\\d/\\d{4} [0-1][0-9]:[0-5][0-9]' , text)\n",
    "    return text\n",
    "\n",
    "data['Split_Emails']= ''\n",
    "\n",
    "for i in range(data.shape[0]):\n",
    "   # print (i)\n",
    "    data['Split_Emails'][i] = split_date(data['Email_Text'][i])    "
   ]
  },
  {
   "cell_type": "code",
   "execution_count": 5,
   "metadata": {},
   "outputs": [
    {
     "data": {
      "text/html": [
       "<div>\n",
       "<style scoped>\n",
       "    .dataframe tbody tr th:only-of-type {\n",
       "        vertical-align: middle;\n",
       "    }\n",
       "\n",
       "    .dataframe tbody tr th {\n",
       "        vertical-align: top;\n",
       "    }\n",
       "\n",
       "    .dataframe thead th {\n",
       "        text-align: right;\n",
       "    }\n",
       "</style>\n",
       "<table border=\"1\" class=\"dataframe\">\n",
       "  <thead>\n",
       "    <tr style=\"text-align: right;\">\n",
       "      <th></th>\n",
       "      <th>Incident</th>\n",
       "      <th>Email_Text</th>\n",
       "      <th>Split_Emails</th>\n",
       "    </tr>\n",
       "  </thead>\n",
       "  <tbody>\n",
       "    <tr>\n",
       "      <td>0</td>\n",
       "      <td>5632054</td>\n",
       "      <td>Auto Response Channel: No ChannelNo Channel   ...</td>\n",
       "      <td>[Auto Response Channel: No ChannelNo Channel  ...</td>\n",
       "    </tr>\n",
       "    <tr>\n",
       "      <td>1</td>\n",
       "      <td>5632083</td>\n",
       "      <td>Response Channel: EmailEmail   01/02/2020 02:2...</td>\n",
       "      <td>[Response Channel: EmailEmail  ,  AMJames Parv...</td>\n",
       "    </tr>\n",
       "    <tr>\n",
       "      <td>2</td>\n",
       "      <td>5632093</td>\n",
       "      <td>Response Channel: EmailEmail   01/21/2020 08:4...</td>\n",
       "      <td>[Response Channel: EmailEmail  ,  PMTom Singh,...</td>\n",
       "    </tr>\n",
       "    <tr>\n",
       "      <td>3</td>\n",
       "      <td>5632101</td>\n",
       "      <td>Auto Response Channel: No ChannelNo Channel   ...</td>\n",
       "      <td>[Auto Response Channel: No ChannelNo Channel  ...</td>\n",
       "    </tr>\n",
       "    <tr>\n",
       "      <td>4</td>\n",
       "      <td>5632108</td>\n",
       "      <td>Auto Response Channel: No ChannelNo Channel   ...</td>\n",
       "      <td>[Auto Response Channel: No ChannelNo Channel  ...</td>\n",
       "    </tr>\n",
       "    <tr>\n",
       "      <td>...</td>\n",
       "      <td>...</td>\n",
       "      <td>...</td>\n",
       "      <td>...</td>\n",
       "    </tr>\n",
       "    <tr>\n",
       "      <td>822</td>\n",
       "      <td>5670263</td>\n",
       "      <td>Auto Response Channel: No ChannelNo Channel   ...</td>\n",
       "      <td>[Auto Response Channel: No ChannelNo Channel  ...</td>\n",
       "    </tr>\n",
       "    <tr>\n",
       "      <td>823</td>\n",
       "      <td>5670303</td>\n",
       "      <td>Response Channel: EmailEmail   02/03/2020 05:2...</td>\n",
       "      <td>[Response Channel: EmailEmail  ,  AMJames Parv...</td>\n",
       "    </tr>\n",
       "    <tr>\n",
       "      <td>824</td>\n",
       "      <td>5670353</td>\n",
       "      <td>Auto Response Channel: No ChannelNo Channel   ...</td>\n",
       "      <td>[Auto Response Channel: No ChannelNo Channel  ...</td>\n",
       "    </tr>\n",
       "    <tr>\n",
       "      <td>825</td>\n",
       "      <td>5670463</td>\n",
       "      <td>Response Channel: EmailEmail   02/05/2020 02:5...</td>\n",
       "      <td>[Response Channel: EmailEmail  ,  AMDerick Upa...</td>\n",
       "    </tr>\n",
       "    <tr>\n",
       "      <td>826</td>\n",
       "      <td>5670478</td>\n",
       "      <td>Response Channel: EmailEmail   02/01/2020 01:5...</td>\n",
       "      <td>[Response Channel: EmailEmail  ,  PMEllie Barm...</td>\n",
       "    </tr>\n",
       "  </tbody>\n",
       "</table>\n",
       "<p>827 rows × 3 columns</p>\n",
       "</div>"
      ],
      "text/plain": [
       "     Incident                                         Email_Text  \\\n",
       "0     5632054  Auto Response Channel: No ChannelNo Channel   ...   \n",
       "1     5632083  Response Channel: EmailEmail   01/02/2020 02:2...   \n",
       "2     5632093  Response Channel: EmailEmail   01/21/2020 08:4...   \n",
       "3     5632101  Auto Response Channel: No ChannelNo Channel   ...   \n",
       "4     5632108  Auto Response Channel: No ChannelNo Channel   ...   \n",
       "..        ...                                                ...   \n",
       "822   5670263  Auto Response Channel: No ChannelNo Channel   ...   \n",
       "823   5670303  Response Channel: EmailEmail   02/03/2020 05:2...   \n",
       "824   5670353  Auto Response Channel: No ChannelNo Channel   ...   \n",
       "825   5670463  Response Channel: EmailEmail   02/05/2020 02:5...   \n",
       "826   5670478  Response Channel: EmailEmail   02/01/2020 01:5...   \n",
       "\n",
       "                                          Split_Emails  \n",
       "0    [Auto Response Channel: No ChannelNo Channel  ...  \n",
       "1    [Response Channel: EmailEmail  ,  AMJames Parv...  \n",
       "2    [Response Channel: EmailEmail  ,  PMTom Singh,...  \n",
       "3    [Auto Response Channel: No ChannelNo Channel  ...  \n",
       "4    [Auto Response Channel: No ChannelNo Channel  ...  \n",
       "..                                                 ...  \n",
       "822  [Auto Response Channel: No ChannelNo Channel  ...  \n",
       "823  [Response Channel: EmailEmail  ,  AMJames Parv...  \n",
       "824  [Auto Response Channel: No ChannelNo Channel  ...  \n",
       "825  [Response Channel: EmailEmail  ,  AMDerick Upa...  \n",
       "826  [Response Channel: EmailEmail  ,  PMEllie Barm...  \n",
       "\n",
       "[827 rows x 3 columns]"
      ]
     },
     "execution_count": 5,
     "metadata": {},
     "output_type": "execute_result"
    }
   ],
   "source": [
    "data"
   ]
  },
  {
   "cell_type": "code",
   "execution_count": 6,
   "metadata": {},
   "outputs": [
    {
     "name": "stderr",
     "output_type": "stream",
     "text": [
      "C:\\Users\\II00083764\\AppData\\Local\\Continuum\\anaconda3\\lib\\site-packages\\ipykernel_launcher.py:4: SettingWithCopyWarning: \n",
      "A value is trying to be set on a copy of a slice from a DataFrame.\n",
      "Try using .loc[row_indexer,col_indexer] = value instead\n",
      "\n",
      "See the caveats in the documentation: http://pandas.pydata.org/pandas-docs/stable/user_guide/indexing.html#returning-a-view-versus-a-copy\n",
      "  after removing the cwd from sys.path.\n",
      "C:\\Users\\II00083764\\AppData\\Local\\Continuum\\anaconda3\\lib\\site-packages\\ipykernel_launcher.py:8: SettingWithCopyWarning: \n",
      "A value is trying to be set on a copy of a slice from a DataFrame\n",
      "\n",
      "See the caveats in the documentation: http://pandas.pydata.org/pandas-docs/stable/user_guide/indexing.html#returning-a-view-versus-a-copy\n",
      "  \n"
     ]
    }
   ],
   "source": [
    "# padding a list to form the same length and same columns\n",
    "# It is difficult to split into different columns as the column length is not equal\n",
    "    \n",
    "data['NewSplit_Emails'] = ''\n",
    "\n",
    "for i in range(data.shape[0]):\n",
    "    \n",
    "    data['NewSplit_Emails'][i] = data['Split_Emails'][i] + [''] * (42 - len(data['Split_Emails'][i]))\n",
    "    "
   ]
  },
  {
   "cell_type": "code",
   "execution_count": 7,
   "metadata": {},
   "outputs": [
    {
     "name": "stderr",
     "output_type": "stream",
     "text": [
      "C:\\Users\\II00083764\\AppData\\Local\\Continuum\\anaconda3\\lib\\site-packages\\ipykernel_launcher.py:3: SettingWithCopyWarning: \n",
      "A value is trying to be set on a copy of a slice from a DataFrame.\n",
      "Try using .loc[row_indexer,col_indexer] = value instead\n",
      "\n",
      "See the caveats in the documentation: http://pandas.pydata.org/pandas-docs/stable/user_guide/indexing.html#returning-a-view-versus-a-copy\n",
      "  This is separate from the ipykernel package so we can avoid doing imports until\n"
     ]
    }
   ],
   "source": [
    "# checking the length of the column\n",
    "\n",
    "data['length'] = data['Split_Emails'].apply(lambda x: len(x))\n",
    "\n",
    "# to extend the split data into different columns\n",
    "   \n",
    "data2 = data.iloc[:,[3]]\n",
    "    \n",
    "df2 = pd.DataFrame(data2.NewSplit_Emails.values.tolist(), index= data2.index)"
   ]
  },
  {
   "cell_type": "code",
   "execution_count": 8,
   "metadata": {},
   "outputs": [],
   "source": [
    "# df2.to_excel('sp.xlsx')"
   ]
  },
  {
   "cell_type": "code",
   "execution_count": 9,
   "metadata": {},
   "outputs": [],
   "source": [
    "# to extract the last email from each text\n",
    "\n",
    "df2['lastemail']=''\n",
    "for row in range(df2.shape[0]):\n",
    "    col= data['length'][row]\n",
    "    col = col-1\n",
    "    df2['lastemail'][row]=df2.iloc[row,col]\n"
   ]
  },
  {
   "cell_type": "code",
   "execution_count": 10,
   "metadata": {},
   "outputs": [],
   "source": [
    "# create the final dataframe by concatenating 2 dataframes\n",
    "\n",
    "main_data = pd.concat([data, df2], axis=1, sort=False)\n",
    "# result with all the columns\n",
    "main_data = main_data.drop(['length', 'NewSplit_Emails','Split_Emails'],axis = 1)"
   ]
  },
  {
   "cell_type": "code",
   "execution_count": 11,
   "metadata": {},
   "outputs": [],
   "source": [
    "# this is the required result with last column\n",
    "#result dataframe with only the last column\n",
    "result = main_data[['Incident','Email_Text','lastemail']]"
   ]
  },
  {
   "cell_type": "code",
   "execution_count": 12,
   "metadata": {},
   "outputs": [
    {
     "name": "stderr",
     "output_type": "stream",
     "text": [
      "C:\\Users\\II00083764\\AppData\\Local\\Continuum\\anaconda3\\lib\\site-packages\\ipykernel_launcher.py:26: SettingWithCopyWarning: \n",
      "A value is trying to be set on a copy of a slice from a DataFrame.\n",
      "Try using .loc[row_indexer,col_indexer] = value instead\n",
      "\n",
      "See the caveats in the documentation: http://pandas.pydata.org/pandas-docs/stable/user_guide/indexing.html#returning-a-view-versus-a-copy\n",
      "C:\\Users\\II00083764\\AppData\\Local\\Continuum\\anaconda3\\lib\\site-packages\\ipykernel_launcher.py:33: SettingWithCopyWarning: \n",
      "A value is trying to be set on a copy of a slice from a DataFrame\n",
      "\n",
      "See the caveats in the documentation: http://pandas.pydata.org/pandas-docs/stable/user_guide/indexing.html#returning-a-view-versus-a-copy\n"
     ]
    }
   ],
   "source": [
    "# removing Best regards and everything before Dear word in each cell\n",
    "\n",
    "def data_cleaning(text):\n",
    "    try:\n",
    "        text = re.sub('\\n+',' ',text)\n",
    "        text = re.sub(r' Best regards.*$','',text)\n",
    "        text = re.sub(r' Sincerely.*$','',text)\n",
    "        text = re.sub(r'.*Dear ','',text)\n",
    "        text = re.sub(r'.*.pdf','',text)\n",
    "        text = re.sub(r'.*.JPG','',text) \n",
    "        text = re.sub(r'.*.jpg','',text)\n",
    "        text = re.sub(r'.*.jpeg','',text)\n",
    "        text = re.sub(r'.*.png','',text)\n",
    "        text = re.sub(r'.*.bmp','',text)\n",
    "        text = re.sub(r'.*.gif','',text)\n",
    "        text = re.sub(r'.*.docx','',text)\n",
    "        text = re.sub(r'.*.PNG','',text)\n",
    "        text = re.sub(r' Vipul (Melbourne, Victoria, Australia),.*$','',text)\n",
    "        text = re.sub(r' Respectfully.*$','',text)\n",
    "        text = text.strip()\n",
    "    except:\n",
    "        return text\n",
    "\n",
    "    return text\n",
    "\n",
    "result['Stage1']=''\n",
    "for col in result:\n",
    "    if col=='Email_Text' or col== 'Incident':\n",
    "        continue\n",
    "    for i in range(result.shape[0]):\n",
    "        #print(result[col][i])\n",
    "        text = result[col][i]\n",
    "        result['Stage1'][i] = data_cleaning(text)\n",
    "        "
   ]
  },
  {
   "cell_type": "code",
   "execution_count": 13,
   "metadata": {},
   "outputs": [],
   "source": [
    "#result.to_excel('outputfile.xlsx')"
   ]
  },
  {
   "cell_type": "markdown",
   "metadata": {},
   "source": [
    "### Stemming and lemmatization"
   ]
  },
  {
   "cell_type": "code",
   "execution_count": 14,
   "metadata": {},
   "outputs": [
    {
     "name": "stderr",
     "output_type": "stream",
     "text": [
      "C:\\Users\\II00083764\\AppData\\Local\\Continuum\\anaconda3\\lib\\site-packages\\ipykernel_launcher.py:32: SettingWithCopyWarning: \n",
      "A value is trying to be set on a copy of a slice from a DataFrame.\n",
      "Try using .loc[row_indexer,col_indexer] = value instead\n",
      "\n",
      "See the caveats in the documentation: http://pandas.pydata.org/pandas-docs/stable/user_guide/indexing.html#returning-a-view-versus-a-copy\n",
      "C:\\Users\\II00083764\\AppData\\Local\\Continuum\\anaconda3\\lib\\site-packages\\ipykernel_launcher.py:39: SettingWithCopyWarning: \n",
      "A value is trying to be set on a copy of a slice from a DataFrame\n",
      "\n",
      "See the caveats in the documentation: http://pandas.pydata.org/pandas-docs/stable/user_guide/indexing.html#returning-a-view-versus-a-copy\n"
     ]
    }
   ],
   "source": [
    "\n",
    "\"\"\"  \n",
    "    text = re.sub('\\[.*?\\]', '', text)\n",
    "    \n",
    "    text = re.sub('<.*?>+', '', text)\n",
    "    # text = re.sub('[%s]' % re.escape(string.punctuation), '', text)\n",
    "    # text = re.sub('\\n', '', text)\n",
    "    text = re.sub('\\w*\\d\\w*', '', text)\n",
    "    \n",
    "    text = re.sub(r'\\r', \"\", text)\n",
    "    text = re.sub(r\"(@.+$|\\\\..{1,3}$)\",'',text)\n",
    "    text = re.sub(r\"[-()\\\"#/@;:<>{}`+=~.!?,%'']\", \"\", text)\n",
    "    text = re.sub(r'http:\\/\\/.*', '', text)\n",
    "    text = re.sub(r\"[0-9]\", \"\", text)   \n",
    "    # email id\n",
    "    text = re.sub(r'[\\w\\.-]+@[\\w\\.-]+','',text)\n",
    "    \n",
    "    text= word_tokenize(text)\n",
    "    # stemming and removing stop words\n",
    "    text = [snowball.stem(word) for word in text if not word in set(stopwords.words('english'))]\n",
    "    # Lemmatization\n",
    "    text = [lemmatizer.lemmatize(token) for token in text]\n",
    "    text = ' '.join(text)\n",
    "\"\"\"\n",
    "def stemming_lemmatization(text):\n",
    "    text = text.lower()\n",
    "    text = re.sub(r'https?://\\S+|www\\.\\S+', '', text)\n",
    "    text = re.sub(r'http:\\/\\/.*', '', text)\n",
    "    text = re.sub(r\"\\b\\d{3}-\\d{3}-\\d{4}\\b\", '', text)\n",
    "    \n",
    "    return text\n",
    "\n",
    "result['Final']=''\n",
    "\n",
    "for col in result:\n",
    "    if col=='Email_Text' or col== 'Incident'or col== 'lastemail':\n",
    "        continue\n",
    "    for i in range(result.shape[0]):\n",
    "        text = result[col][i]\n",
    "        result['Final'][i] = stemming_lemmatization(text)"
   ]
  },
  {
   "cell_type": "markdown",
   "metadata": {},
   "source": [
    "##### Number of words in a paragraph"
   ]
  },
  {
   "cell_type": "code",
   "execution_count": 15,
   "metadata": {},
   "outputs": [],
   "source": [
    "result.to_excel(\"Outputfile2.xlsx\")"
   ]
  }
 ],
 "metadata": {
  "kernelspec": {
   "display_name": "Python 3",
   "language": "python",
   "name": "python3"
  },
  "language_info": {
   "codemirror_mode": {
    "name": "ipython",
    "version": 3
   },
   "file_extension": ".py",
   "mimetype": "text/x-python",
   "name": "python",
   "nbconvert_exporter": "python",
   "pygments_lexer": "ipython3",
   "version": "3.7.4"
  }
 },
 "nbformat": 4,
 "nbformat_minor": 2
}
